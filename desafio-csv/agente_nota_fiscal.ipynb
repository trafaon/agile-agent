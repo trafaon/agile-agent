{
  "nbformat": 4,
  "nbformat_minor": 0,
  "metadata": {
    "colab": {
      "provenance": [],
      "authorship_tag": "ABX9TyMmviulcm4kzjZVNHV8lBYT",
      "include_colab_link": true
    },
    "kernelspec": {
      "name": "python3",
      "display_name": "Python 3"
    },
    "language_info": {
      "name": "python"
    }
  },
  "cells": [
    {
      "cell_type": "markdown",
      "metadata": {
        "id": "view-in-github",
        "colab_type": "text"
      },
      "source": [
        "<a href=\"https://colab.research.google.com/github/trafaon/agile-agent/blob/main/desafio-csv/agente_nota_fiscal.ipynb\" target=\"_parent\"><img src=\"https://colab.research.google.com/assets/colab-badge.svg\" alt=\"Open In Colab\"/></a>"
      ]
    },
    {
      "cell_type": "markdown",
      "source": [
        "# 📊 Agente de Consulta de Notas Fiscais - LlamaIndex + Groq\n",
        "\n",
        "Este notebook permite realizar **perguntas em linguagem natural** sobre os dados de 100 notas fiscais (cabeçalho e itens) do mês de janeiro de 2024, baixadas do TCU.\n",
        "\n",
        "Utilizamos:\n",
        "- **LlamaIndex** para indexação dos dados\n",
        "- **LLM via Groq** para interpretar as perguntas\n",
        "- **Embeddings Hugging Face** para contextualização\n",
        "- Dados CSV reais extraídos do TCU\n",
        "\n",
        "---\n",
        "\n",
        "## ✅ Como usar\n",
        "\n",
        "1. Crie um arquivo `.env` com sua chave da Groq (exemplo em `.env.example`);\n",
        "2. Rode o notebook em um ambiente como:\n",
        "   - Google Colab (recomendado) — já inclui a instalação dos pacotes\n",
        "   - VSCode ou Jupyter (local) — use `pip install -r requirements.txt` antes de executar\n",
        "3. Digite suas perguntas no final do notebook:\n",
        "  ```python\n",
        "  - Qual fornecedor recebeu o maior valor?\n",
        "  - Qual item teve maior volume entregue?\n",
        "  - Quais datas de emissão aparecem mais?\n",
        "\n",
        "  Digite **sair** para encerrar o loop de pergutas.\n",
        "\n",
        "## 📂 Acesso ao Google Drive\n",
        "\n",
        "O notebook precisa acessar os arquivos CSV diretamente do seu Google Drive.\n",
        "\n",
        "🔐 **Ao rodar o bloco abaixo, o Colab pedirá uma autorização.**  \n",
        "Clique no link, selecione sua conta Google e cole o código de autorização.\n",
        "\n",
        "Depois disso, ajuste os caminhos dos arquivos conforme a sua pasta:\n",
        "\n",
        "```python\n",
        "cabecalho_path = '/content/drive/MyDrive/SUA_PASTA/202401_NFs_Cabecalho.csv'\n",
        "itens_path = '/content/drive/MyDrive/SUA_PASTA/202401_NFs_Itens.csv'\n"
      ],
      "metadata": {
        "id": "NrBYHAAqwS8s"
      }
    },
    {
      "cell_type": "code",
      "execution_count": null,
      "metadata": {
        "collapsed": true,
        "id": "HPa7K-QSkfUW"
      },
      "outputs": [],
      "source": [
        "# LlamaIndex com suporte a LLMs externos e leitores de arquivos\n",
        "!pip install -q llama-index\n",
        "\n",
        "# Integração com modelo Groq\n",
        "!pip install -q llama-index-llms-groq\n",
        "\n",
        "# Embeddings via Hugging Face\n",
        "!pip install -q llama-index-embeddings-huggingface\n",
        "\n",
        "# Leitura de arquivos CSV\n",
        "!pip install -q llama-index-readers-file\n",
        "\n",
        "# Carregar variáveis de ambiente (.env)\n",
        "!pip install python-dotenv"
      ]
    },
    {
      "cell_type": "code",
      "source": [
        "from llama_index.core import Settings\n",
        "from llama_index.llms import groq\n",
        "\n",
        "# montar drive\n",
        "from google.colab import drive\n",
        "drive.mount('/content/drive')\n",
        "\n",
        "# Ajuste os caminhos para os arquivos CSV no seu Google Drive\n",
        "cabecalho_path = '/content/drive/MyDrive/Colab Notebooks/202401_NFs_Cabecalho.csv'\n",
        "itens_path = '/content/drive/MyDrive/Colab Notebooks/202401_NFs_Itens.csv'"
      ],
      "metadata": {
        "id": "agm9xsgkk9im"
      },
      "execution_count": null,
      "outputs": []
    },
    {
      "source": [
        "from llama_index.core import VectorStoreIndex, Settings\n",
        "from dotenv import load_dotenv\n",
        "import os\n",
        "from pathlib import Path # Import the Path class\n",
        "\n",
        "# Carregando os CSVs\n",
        "from llama_index.readers.file import CSVReader\n",
        "\n",
        "# Importe o modelo de embeddings da Hugging Face\n",
        "from llama_index.embeddings.huggingface import HuggingFaceEmbedding\n",
        "from llama_index.llms.groq import Groq\n",
        "\n",
        "# Carregar variáveis de ambiente do arquivo .env\n",
        "load_dotenv()\n",
        "\n",
        "# Configurar o modelo de embeddings (usando um modelo comum como exemplo)\n",
        "# Você pode escolher outro modelo da Hugging Face se preferir\n",
        "Settings.embed_model = HuggingFaceEmbedding(model_name=\"sentence-transformers/all-MiniLM-L6-v2\")\n",
        "\n",
        "# Configurar o modelo LLM (Groq)\n",
        "groq_api_key = os.getenv(\"GROQ_API_KEY\")\n",
        "if groq_api_key is None:\n",
        "    raise ValueError(\"GROQ_API_KEY not found in environment variables.\")\n",
        "\n",
        "Settings.llm = Groq(model=\"llama3-8b-8192\", api_key=groq_api_key) # Exemplo de modelo Groq\n",
        "\n",
        "reader = CSVReader()\n",
        "\n",
        "# Carregar os documentos de cada arquivo CSV\n",
        "# Certifique-se de que os paths estão corretos\n",
        "cabecalho_docs = reader.load_data(file=Path(cabecalho_path))\n",
        "itens_docs = reader.load_data(file=Path(itens_path))\n",
        "\n",
        "# Combinar os documentos em uma única lista\n",
        "docs = cabecalho_docs + itens_docs\n",
        "\n",
        "# Criando o índice - ele agora usará o embed_model e llm definidos em Settings\n",
        "index = VectorStoreIndex.from_documents(docs)\n",
        "\n",
        "# Criando o mecanismo de pergunta\n",
        "query_engine = index.as_query_engine()"
      ],
      "cell_type": "code",
      "metadata": {
        "collapsed": true,
        "id": "h0rTyDPvuW23"
      },
      "execution_count": 4,
      "outputs": []
    },
    {
      "cell_type": "code",
      "source": [
        "resposta = query_engine.query(\"Qual fornecedor recebeu o maior valor?\")\n",
        "print(resposta)"
      ],
      "metadata": {
        "id": "2cfiylFZv0B5"
      },
      "execution_count": null,
      "outputs": []
    },
    {
      "cell_type": "code",
      "source": [
        "# Loop de perguntas até o usuário digitar 'sair'\n",
        "print(\"🔎 Digite sua pergunta sobre os dados de notas fiscais.\")\n",
        "print(\"Digite 'sair' para encerrar.\")\n",
        "\n",
        "while True:\n",
        "    pergunta = input(\"📝 Sua pergunta: \")\n",
        "    if pergunta.lower() == \"sair\":\n",
        "        print(\"Encerrado.\")\n",
        "        break\n",
        "    resposta = query_engine.query(pergunta)\n",
        "    print(\"💬 Resposta:\", resposta)\n"
      ],
      "metadata": {
        "id": "atpoBiaS26S-"
      },
      "execution_count": null,
      "outputs": []
    }
  ]
}