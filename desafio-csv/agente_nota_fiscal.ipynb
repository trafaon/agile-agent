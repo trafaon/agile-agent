{
  "nbformat": 4,
  "nbformat_minor": 0,
  "metadata": {
    "colab": {
      "provenance": [],
      "authorship_tag": "ABX9TyMmviulcm4kzjZVNHV8lBYT",
      "include_colab_link": true
    },
    "kernelspec": {
      "name": "python3",
      "display_name": "Python 3"
    },
    "language_info": {
      "name": "python"
    }
  },
  "cells": [
    {
      "cell_type": "markdown",
      "metadata": {
        "id": "view-in-github",
        "colab_type": "text"
      },
      "source": [
        "<a href=\"https://colab.research.google.com/github/trafaon/agile-agent/blob/main/desafio-csv/agente_nota_fiscal.ipynb\" target=\"_parent\"><img src=\"https://colab.research.google.com/assets/colab-badge.svg\" alt=\"Open In Colab\"/></a>"
      ]
    },
    {
      "cell_type": "markdown",
      "source": [
        "# 📊 Agente de Consulta de Notas Fiscais - LlamaIndex + Groq\n",
        "\n",
        "Este notebook permite realizar **perguntas em linguagem natural** sobre os dados de 100 notas fiscais (cabeçalho e itens) do mês de janeiro de 2024, baixadas do TCU.\n",
        "\n",
        "Utilizamos:\n",
        "- **LlamaIndex** para indexação dos dados\n",
        "- **LLM via Groq** para interpretar as perguntas\n",
        "- **Embeddings Hugging Face** para contextualização\n",
        "- Dados CSV reais extraídos do TCU\n",
        "\n",
        "---\n",
        "\n",
        "## ✅ Como usar\n",
        "\n",
        "1. Crie um arquivo `.env` com sua chave da Groq (exemplo em `.env.example`);\n",
        "2. Rode o notebook em um ambiente como:\n",
        "   - Google Colab (recomendado) — já inclui a instalação dos pacotes\n",
        "   - VSCode ou Jupyter (local) — use `pip install -r requirements.txt` antes de executar\n",
        "3. Digite suas perguntas no final do notebook:\n",
        "  ```python\n",
        "  - Qual fornecedor recebeu o maior valor?\n",
        "  - Qual item teve maior volume entregue?\n",
        "  - Quais datas de emissão aparecem mais?\n",
        "\n",
        "  Digite **sair** para encerrar o loop de pergutas.\n",
        "\n",
        "## 📂 Acesso ao Google Drive\n",
        "\n",
        "O notebook precisa acessar os arquivos CSV diretamente do seu Google Drive.\n",
        "\n",
        "🔐 **Ao rodar o bloco abaixo, o Colab pedirá uma autorização.**  \n",
        "Clique no link, selecione sua conta Google e cole o código de autorização.\n",
        "\n",
        "Depois disso, ajuste os caminhos dos arquivos conforme a sua pasta:\n",
        "\n",
        "```python\n",
        "cabecalho_path = '/content/drive/MyDrive/SUA_PASTA/202401_NFs_Cabecalho.csv'\n",
        "itens_path = '/content/drive/MyDrive/SUA_PASTA/202401_NFs_Itens.csv'\n"
      ],
      "metadata": {
        "id": "NrBYHAAqwS8s"
      }
    },
    {
      "cell_type": "code",
      "execution_count": 1,
      "metadata": {
        "collapsed": true,
        "id": "HPa7K-QSkfUW",
        "colab": {
          "base_uri": "https://localhost:8080/"
        },
        "outputId": "50d3a71c-3ad4-4a19-bc0d-a849fb689b79"
      },
      "outputs": [
        {
          "output_type": "stream",
          "name": "stdout",
          "text": [
            "\u001b[2K   \u001b[90m━━━━━━━━━━━━━━━━━━━━━━━━━━━━━━━━━━━━━━━━\u001b[0m \u001b[32m7.7/7.7 MB\u001b[0m \u001b[31m50.8 MB/s\u001b[0m eta \u001b[36m0:00:00\u001b[0m\n",
            "\u001b[2K   \u001b[90m━━━━━━━━━━━━━━━━━━━━━━━━━━━━━━━━━━━━━━━━\u001b[0m \u001b[32m267.3/267.3 kB\u001b[0m \u001b[31m14.9 MB/s\u001b[0m eta \u001b[36m0:00:00\u001b[0m\n",
            "\u001b[2K   \u001b[90m━━━━━━━━━━━━━━━━━━━━━━━━━━━━━━━━━━━━━━━━\u001b[0m \u001b[32m41.0/41.0 kB\u001b[0m \u001b[31m2.3 MB/s\u001b[0m eta \u001b[36m0:00:00\u001b[0m\n",
            "\u001b[2K   \u001b[90m━━━━━━━━━━━━━━━━━━━━━━━━━━━━━━━━━━━━━━━━\u001b[0m \u001b[32m304.2/304.2 kB\u001b[0m \u001b[31m15.9 MB/s\u001b[0m eta \u001b[36m0:00:00\u001b[0m\n",
            "\u001b[2K   \u001b[90m━━━━━━━━━━━━━━━━━━━━━━━━━━━━━━━━━━━━━━━━\u001b[0m \u001b[32m50.9/50.9 kB\u001b[0m \u001b[31m2.9 MB/s\u001b[0m eta \u001b[36m0:00:00\u001b[0m\n",
            "\u001b[2K   \u001b[90m━━━━━━━━━━━━━━━━━━━━━━━━━━━━━━━━━━━━━━━━\u001b[0m \u001b[32m129.3/129.3 kB\u001b[0m \u001b[31m7.4 MB/s\u001b[0m eta \u001b[36m0:00:00\u001b[0m\n",
            "\u001b[2K   \u001b[90m━━━━━━━━━━━━━━━━━━━━━━━━━━━━━━━━━━━━━━━━\u001b[0m \u001b[32m363.4/363.4 MB\u001b[0m \u001b[31m4.3 MB/s\u001b[0m eta \u001b[36m0:00:00\u001b[0m\n",
            "\u001b[2K   \u001b[90m━━━━━━━━━━━━━━━━━━━━━━━━━━━━━━━━━━━━━━━━\u001b[0m \u001b[32m13.8/13.8 MB\u001b[0m \u001b[31m63.9 MB/s\u001b[0m eta \u001b[36m0:00:00\u001b[0m\n",
            "\u001b[2K   \u001b[90m━━━━━━━━━━━━━━━━━━━━━━━━━━━━━━━━━━━━━━━━\u001b[0m \u001b[32m24.6/24.6 MB\u001b[0m \u001b[31m34.2 MB/s\u001b[0m eta \u001b[36m0:00:00\u001b[0m\n",
            "\u001b[2K   \u001b[90m━━━━━━━━━━━━━━━━━━━━━━━━━━━━━━━━━━━━━━━━\u001b[0m \u001b[32m883.7/883.7 kB\u001b[0m \u001b[31m31.3 MB/s\u001b[0m eta \u001b[36m0:00:00\u001b[0m\n",
            "\u001b[2K   \u001b[90m━━━━━━━━━━━━━━━━━━━━━━━━━━━━━━━━━━━━━━━━\u001b[0m \u001b[32m664.8/664.8 MB\u001b[0m \u001b[31m2.8 MB/s\u001b[0m eta \u001b[36m0:00:00\u001b[0m\n",
            "\u001b[2K   \u001b[90m━━━━━━━━━━━━━━━━━━━━━━━━━━━━━━━━━━━━━━━━\u001b[0m \u001b[32m211.5/211.5 MB\u001b[0m \u001b[31m5.0 MB/s\u001b[0m eta \u001b[36m0:00:00\u001b[0m\n",
            "\u001b[2K   \u001b[90m━━━━━━━━━━━━━━━━━━━━━━━━━━━━━━━━━━━━━━━━\u001b[0m \u001b[32m56.3/56.3 MB\u001b[0m \u001b[31m15.6 MB/s\u001b[0m eta \u001b[36m0:00:00\u001b[0m\n",
            "\u001b[2K   \u001b[90m━━━━━━━━━━━━━━━━━━━━━━━━━━━━━━━━━━━━━━━━\u001b[0m \u001b[32m127.9/127.9 MB\u001b[0m \u001b[31m7.2 MB/s\u001b[0m eta \u001b[36m0:00:00\u001b[0m\n",
            "\u001b[2K   \u001b[90m━━━━━━━━━━━━━━━━━━━━━━━━━━━━━━━━━━━━━━━━\u001b[0m \u001b[32m207.5/207.5 MB\u001b[0m \u001b[31m6.7 MB/s\u001b[0m eta \u001b[36m0:00:00\u001b[0m\n",
            "\u001b[2K   \u001b[90m━━━━━━━━━━━━━━━━━━━━━━━━━━━━━━━━━━━━━━━━\u001b[0m \u001b[32m21.1/21.1 MB\u001b[0m \u001b[31m56.1 MB/s\u001b[0m eta \u001b[36m0:00:00\u001b[0m\n",
            "\u001b[?25hRequirement already satisfied: python-dotenv in /usr/local/lib/python3.11/dist-packages (1.1.0)\n"
          ]
        }
      ],
      "source": [
        "# LlamaIndex com suporte a LLMs externos e leitores de arquivos\n",
        "!pip install -q llama-index\n",
        "\n",
        "# Integração com modelo Groq\n",
        "!pip install -q llama-index-llms-groq\n",
        "\n",
        "# Embeddings via Hugging Face\n",
        "!pip install -q llama-index-embeddings-huggingface\n",
        "\n",
        "# Leitura de arquivos CSV\n",
        "!pip install -q llama-index-readers-file\n",
        "\n",
        "# Carregar variáveis de ambiente (.env)\n",
        "!pip install python-dotenv"
      ]
    },
    {
      "cell_type": "code",
      "source": [
        "from llama_index.core import Settings\n",
        "from llama_index.llms import groq\n",
        "\n",
        "# montar drive\n",
        "from google.colab import drive\n",
        "drive.mount('/content/drive')\n",
        "\n",
        "# Ajuste os caminhos para os arquivos CSV no seu Google Drive\n",
        "cabecalho_path = '/content/drive/MyDrive/Colab Notebooks/202401_NFs_Cabecalho.csv'\n",
        "itens_path = '/content/drive/MyDrive/Colab Notebooks/202401_NFs_Itens.csv'"
      ],
      "metadata": {
        "id": "agm9xsgkk9im",
        "colab": {
          "base_uri": "https://localhost:8080/"
        },
        "outputId": "b91faadc-9194-487f-a32b-c183f059a783"
      },
      "execution_count": 2,
      "outputs": [
        {
          "output_type": "stream",
          "name": "stdout",
          "text": [
            "Mounted at /content/drive\n"
          ]
        }
      ]
    },
    {
      "source": [
        "from llama_index.core import VectorStoreIndex, Settings\n",
        "from dotenv import load_dotenv\n",
        "import os\n",
        "from pathlib import Path # Import the Path class\n",
        "\n",
        "# Carregando os CSVs\n",
        "from llama_index.readers.file import CSVReader\n",
        "\n",
        "# Importe o modelo de embeddings da Hugging Face\n",
        "from llama_index.embeddings.huggingface import HuggingFaceEmbedding\n",
        "from llama_index.llms.groq import Groq\n",
        "\n",
        "# Carregar variáveis de ambiente do arquivo .env\n",
        "load_dotenv()\n",
        "\n",
        "# Configurar o modelo de embeddings (usando um modelo comum como exemplo)\n",
        "# Você pode escolher outro modelo da Hugging Face se preferir\n",
        "Settings.embed_model = HuggingFaceEmbedding(model_name=\"sentence-transformers/all-MiniLM-L6-v2\")\n",
        "\n",
        "# Configurar o modelo LLM (Groq)\n",
        "groq_api_key = os.getenv(\"GROQ_API_KEY\")\n",
        "if groq_api_key is None:\n",
        "    raise ValueError(\"GROQ_API_KEY not found in environment variables.\")\n",
        "\n",
        "Settings.llm = Groq(model=\"llama3-8b-8192\", api_key=groq_api_key) # Exemplo de modelo Groq\n",
        "\n",
        "reader = CSVReader()\n",
        "\n",
        "# Carregar os documentos de cada arquivo CSV\n",
        "# Certifique-se de que os paths estão corretos\n",
        "cabecalho_docs = reader.load_data(file=Path(cabecalho_path))\n",
        "itens_docs = reader.load_data(file=Path(itens_path))\n",
        "\n",
        "# Combinar os documentos em uma única lista\n",
        "docs = cabecalho_docs + itens_docs\n",
        "\n",
        "# Criando o índice - ele agora usará o embed_model e llm definidos em Settings\n",
        "index = VectorStoreIndex.from_documents(docs)\n",
        "\n",
        "# Criando o mecanismo de pergunta\n",
        "query_engine = index.as_query_engine()"
      ],
      "cell_type": "code",
      "metadata": {
        "collapsed": true,
        "id": "h0rTyDPvuW23"
      },
      "execution_count": 4,
      "outputs": []
    },
    {
      "cell_type": "code",
      "source": [
        "resposta = query_engine.query(\"Qual fornecedor recebeu o maior valor?\")\n",
        "print(resposta)"
      ],
      "metadata": {
        "id": "2cfiylFZv0B5"
      },
      "execution_count": null,
      "outputs": []
    },
    {
      "cell_type": "code",
      "source": [
        "# Loop de perguntas até o usuário digitar 'sair'\n",
        "print(\"🔎 Digite sua pergunta sobre os dados de notas fiscais.\")\n",
        "print(\"Digite 'sair' para encerrar.\")\n",
        "\n",
        "while True:\n",
        "    pergunta = input(\"📝 Sua pergunta: \")\n",
        "    if pergunta.lower() == \"sair\":\n",
        "        print(\"Encerrado.\")\n",
        "        break\n",
        "    resposta = query_engine.query(pergunta)\n",
        "    print(\"💬 Resposta:\", resposta)\n"
      ],
      "metadata": {
        "colab": {
          "base_uri": "https://localhost:8080/"
        },
        "id": "atpoBiaS26S-",
        "outputId": "3f29ad1e-16ba-4ff3-83fd-fabc4da5a9c1"
      },
      "execution_count": 5,
      "outputs": [
        {
          "output_type": "stream",
          "name": "stdout",
          "text": [
            "🔎 Digite sua pergunta sobre os dados de notas fiscais.\n",
            "Digite 'sair' para encerrar.\n",
            "📝 Sua pergunta: qual fornecedor recebeu mais?\n",
            "💬 Resposta: JUAREZ SILVA CABRAL.\n",
            "📝 Sua pergunta: qual o maior valor pago?\n",
            "💬 Resposta: 548.68\n",
            "📝 Sua pergunta: Qual item teve maior volume entregue (em quantidade)?\n",
            "💬 Resposta: Based on the provided data, the item with the largest volume delivered (in quantity) is \"Outras sondas, catéteres e cânulas\" with a quantity of 6917.\n",
            "📝 Sua pergunta: Quais notas fiscais foram emitidas em janeiro?\n",
            "💬 Resposta: As notas fiscais emitidas em janeiro são as seguintes:\n",
            "\n",
            "55 - NF-E EMITIDA EM SUBSTITUIÇÃO AO MODELO 1 OU 1A, 892, 900180376, VENDA, 2024-01-05 15:51:08, ***.165.104-**, JOSEFA DE SOUZA ABREU, -1, PB, SAO JOAO DO RIO DO PEIXE, 5526783000408, MINISTERIO DO DESENVOLVIMENTO SOCIAL, FAMILIA E COMBATE A FO, DF, NÃO CONTRIBUINTE, 2 - OPERAÇÃO INTERESTADUAL, 1 - CONSUMIDOR FINAL, 0 - NÃO SE APLICA, 1, MILHO VERDE, 10059090, Milho, exceto em grão, 6101, 69.0, KG, 5.26, 362.94\n",
            "55 - NF-E EMITIDA EM SUBSTITUIÇÃO AO MODELO 1 OU 1A, 1, 22661, 5102 Venda Interna Normal, 2024-01-15 00:00:00, 21172344000158, J NUNES DISTRIBUIDORA DE ALIMENTOS EIRELI, 204169810, RN, NATAL, 24365710000183, UNIVERSIDADE FEDERAL DO RIO GRANDE NORTE, RN, NÃO CONTRIBUINTE, 1 - OPERAÇÃO INTERNA, 1 - CONSUMIDOR FINAL, 0 - NÃO SE APLICA, 1, ALHO BRANCO, 7032090, Alhos, frescos ou refrigerados, exceto para semeadura, 5102, 4.0, KG, 17.8, 71.2\n",
            "55 - NF-E EMITIDA EM SUBSTITUIÇÃO AO MODELO 1 OU 1A, 890, 243008447, DA DE PRODUCAO DO ESTABELECIMENTO, 2024-01-19 10:40:44, ***.858.493-**, JUAREZ SILVA CABRAL, -1, MA, SAO LUIS, 5526783000165, MINISTERIO DO DESENVOLVIMENTO E ASSISTENCIA SOCIAL, FAMILIA, AM, NÃO CONTRIBUINTE, 2 - OPERAÇÃO INTERESTADUAL, 1 - CONSUMIDOR FINAL, 0 - NÃO SE APLICA, 1, BATATA DOCE, 7099990, Outros produtos hortícolas, frescos ou refrigerados, 6101, 24.0, KG, 4.67, 112.08\n",
            "55 - NF-E EMITIDA EM SUBSTITUIÇÃO AO MODELO 1 OU 1A, 890, 243008447, DA DE PRODUCAO DO ESTABELECIMENTO, 2024-01-19 10:40:44, ***.858.493-**, JUAREZ SILVA CABRAL, -1, MA, SAO LUIS, 5526783000165, MINISTERIO DO DESENVOLVIMENTO E ASSISTENCIA SOCIAL, FAMILIA, AM, NÃO CONTRIBUINTE, 2 - OPERAÇÃO INTERESTADUAL, 1 - CONSUMIDOR FINAL, 0 - NÃO SE APLICA, 2, COUVEFLOR, 7099990, Outros produtos hortícolas, frescos ou refrigerados, 6101, 3.0, KG, 18.63, 55.89\n",
            "55 - NF-E EMITIDA EM SUBSTITUIÇÃO AO MODELO 1 OU 1A, 890, 243008447, DA DE PRODUCAO DO ESTABELECIMENTO, 2024-01-19 10:40:44, ***.858.493-**, JUAREZ SILVA CABRAL, -1, MA, SAO LUIS, 5526783000165, MINISTERIO DO DESENVOLVIMENTO E ASSISTENCIA SOCIAL, FAMILIA, AM, NÃO CONTRIBUINTE, 2 - OPERAÇÃO INTERESTADUAL, 1 - CONSUMIDOR FINAL, 0 - NÃO SE APLICA, 1, BATATA DOCE, 7099990, Outros produtos hortícolas, frescos ou refrigerados, 6101, 24.0, KG, 4.67, 112.08\n",
            "📝 Sua pergunta: sair\n",
            "Encerrado.\n"
          ]
        }
      ]
    }
  ]
}